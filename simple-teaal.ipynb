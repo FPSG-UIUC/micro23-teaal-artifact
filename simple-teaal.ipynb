{
 "cells": [
  {
   "cell_type": "markdown",
   "id": "1d08e503",
   "metadata": {},
   "source": [
    "# Simple TeAAL Notebook\n",
    "\n",
    "This notebook just performs the copy kernel."
   ]
  },
  {
   "cell_type": "code",
   "execution_count": null,
   "id": "fd47905f",
   "metadata": {},
   "outputs": [],
   "source": [
    "from fibertree import Tensor\n",
    "from teaal.parse import *\n",
    "from teaal.trans.hifiber import HiFiber"
   ]
  },
  {
   "cell_type": "code",
   "execution_count": null,
   "id": "ac7ca130",
   "metadata": {},
   "outputs": [],
   "source": [
    "M = 6\n",
    "N = 7\n",
    "density = 0.5\n",
    "\n",
    "# Create the tensor\n",
    "A_MN = Tensor.fromRandom(rank_ids=[\"M\", \"N\"], shape=[M, N], density=[0.9, density], seed=0)"
   ]
  },
  {
   "cell_type": "code",
   "execution_count": null,
   "id": "8179e8c7",
   "metadata": {},
   "outputs": [],
   "source": [
    "yaml = \"\"\"\n",
    "einsum:\n",
    "    declaration:\n",
    "        A: [M, N]\n",
    "        Z: [M, N]\n",
    "    expressions:\n",
    "        - Z[m, n] = A[m, n]\n",
    "\"\"\"\n",
    "\n",
    "exec(str(HiFiber(Einsum.from_str(yaml), Mapping.from_str(yaml))), globals(), locals())"
   ]
  },
  {
   "cell_type": "code",
   "execution_count": null,
   "id": "64f9fc0a",
   "metadata": {},
   "outputs": [],
   "source": [
    "print(Z_MN)"
   ]
  },
  {
   "cell_type": "code",
   "execution_count": null,
   "id": "883da8a1",
   "metadata": {},
   "outputs": [],
   "source": []
  }
 ],
 "metadata": {
  "kernelspec": {
   "display_name": "Python 3",
   "language": "python",
   "name": "python3"
  },
  "language_info": {
   "codemirror_mode": {
    "name": "ipython",
    "version": 3
   },
   "file_extension": ".py",
   "mimetype": "text/x-python",
   "name": "python",
   "nbconvert_exporter": "python",
   "pygments_lexer": "ipython3",
   "version": "3.9.5"
  }
 },
 "nbformat": 4,
 "nbformat_minor": 5
}
