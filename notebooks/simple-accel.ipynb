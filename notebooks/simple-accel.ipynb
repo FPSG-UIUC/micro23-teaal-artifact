{
 "cells": [
  {
   "cell_type": "markdown",
   "id": "8f360643-0fc7-4131-8070-c21743d50fb0",
   "metadata": {},
   "source": [
    "# Test the Accelerators on Simple Examples"
   ]
  },
  {
   "cell_type": "code",
   "execution_count": null,
   "id": "9a112574-bdca-4fd0-813a-0b2e05db65d7",
   "metadata": {},
   "outputs": [],
   "source": [
    "import os\n",
    "import sys\n",
    "sys.path.insert(0, \"/home/workspace\")\n",
    "\n",
    "from fibertree import Tensor\n",
    "\n",
    "from scripts.run_outerspace import run_outerspace"
   ]
  },
  {
   "cell_type": "code",
   "execution_count": null,
   "id": "eb554a86-2f27-414b-9a10-0fff678b8550",
   "metadata": {},
   "outputs": [],
   "source": [
    "K = 8\n",
    "M = 6\n",
    "N = 7\n",
    "density = 0.5\n",
    "\n",
    "# Create the tensors\n",
    "A_KM = Tensor.fromRandom(rank_ids=[\"K\", \"M\"], shape=[K, M], density=[0.9, density], seed=0)\n",
    "B_KN = Tensor.fromRandom(rank_ids=[\"K\", \"N\"], shape=[K, N], density=[0.9, density], seed=1)"
   ]
  },
  {
   "cell_type": "code",
   "execution_count": null,
   "id": "fe9a6dad-95ac-40d3-8164-93a4de12ca77",
   "metadata": {},
   "outputs": [],
   "source": [
    "run_outerspace(A_KM, B_KN)"
   ]
  },
  {
   "cell_type": "code",
   "execution_count": null,
   "id": "0930b023-2933-45e5-ae20-96d342b22e58",
   "metadata": {},
   "outputs": [],
   "source": []
  }
 ],
 "metadata": {
  "kernelspec": {
   "display_name": "Python 3 (ipykernel)",
   "language": "python",
   "name": "python3"
  },
  "language_info": {
   "codemirror_mode": {
    "name": "ipython",
    "version": 3
   },
   "file_extension": ".py",
   "mimetype": "text/x-python",
   "name": "python",
   "nbconvert_exporter": "python",
   "pygments_lexer": "ipython3",
   "version": "3.8.10"
  }
 },
 "nbformat": 4,
 "nbformat_minor": 5
}
