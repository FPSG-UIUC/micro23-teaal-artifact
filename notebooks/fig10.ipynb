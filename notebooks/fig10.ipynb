{
 "cells": [
  {
   "cell_type": "markdown",
   "id": "0791d91d-b333-4c48-8483-3650eefe2c84",
   "metadata": {},
   "source": [
    "# MICRO 2023 TeAAL Artifact Evaluation Figure 10\n",
    "\n",
    "## TeAAL: A Declarative Framework for Modeling Sparse Tensor Accelerators\n",
    "\n",
    "This notebook calls the scripts necessary to simulate ExTensor [15] for the purpose of modeling energy and generate the graph found in Figure 10 of the TeAAL paper.\n",
    "\n",
    "**Warning: Running a cell more than once will overwrite the previous output produced by the cell. Please back up all results as soon as they are produced in case you accidentally rerun the cell.** All results are stored in `data/generated/`."
   ]
  },
  {
   "cell_type": "code",
   "execution_count": null,
   "id": "9c53f387-100f-4051-8377-7e6d2441aa01",
   "metadata": {},
   "outputs": [],
   "source": [
    "%matplotlib inline\n",
    "\n",
    "import os\n",
    "import sys\n",
    "sys.path.insert(0, \"/home/workspace\")\n",
    "\n",
    "import scripts.extensor_energy as extensor_energy"
   ]
  },
  {
   "cell_type": "markdown",
   "id": "48a92061-4b2a-4760-b018-5a4c5fe70a52",
   "metadata": {},
   "source": [
    "Set `pregenerated` to `True` to use pre-generated results for the figure and to `False` to display results you generated."
   ]
  },
  {
   "cell_type": "code",
   "execution_count": null,
   "id": "f4cf4313-b602-441e-803d-70eecf73b647",
   "metadata": {},
   "outputs": [],
   "source": [
    "from ipywidgets import interactive\n",
    "\n",
    "pregenerated = False\n",
    "\n",
    "def set_pregenerated(**kwargs):\n",
    "    global pregenerated\n",
    "    pregenerated = kwargs['pregenerated']\n",
    "\n",
    "options = {\"pregenerated\": [False, True]}\n",
    "\n",
    "w = interactive(set_pregenerated, **options)\n",
    "\n",
    "display(w)"
   ]
  },
  {
   "cell_type": "markdown",
   "id": "46503704-ace1-484a-8144-f13dfae0621d",
   "metadata": {},
   "source": [
    "## Figure 10\n",
    "\n",
    "### Simulate ExTensor with TeAAL\n",
    "\n",
    "Expected simulation time: ?? hours\n",
    "\n",
    "The datasets simulated are:\n",
    "- `wiki-Vote`\n",
    "- `p2p-Gnutella31`\n",
    "- `ca-CondMat`\n",
    "- `poisson3Da`\n",
    "- `email-Enron`\n",
    "\n",
    "Pass the name of the desired dataset as a parameter to `extensor_energy.eval()` as a string (e.g., `dataset=\"wiki-Vote\"`) or `\"all\"` for all datasets."
   ]
  },
  {
   "cell_type": "code",
   "execution_count": null,
   "id": "11df41b4-8634-4ba7-af0e-518cab053ac5",
   "metadata": {},
   "outputs": [],
   "source": [
    "%%python3 -O\n",
    "\n",
    "import os\n",
    "import sys\n",
    "sys.path.insert(0, \"/home/workspace\")\n",
    "\n",
    "import scripts.extensor_energy as extensor_energy\n",
    "extensor_energy.eval(dataset=\"all\")"
   ]
  },
  {
   "cell_type": "markdown",
   "id": "d90aabf6-f12a-40d8-8ddc-59259c98fb74",
   "metadata": {},
   "source": [
    "### Display Figure 10\n",
    "\n",
    "To display Figure 10 with pre-generated data (i.e. without running the TeAAL simulation), toggle the `pregenerated` widget above."
   ]
  },
  {
   "cell_type": "code",
   "execution_count": null,
   "id": "cc6de873-6b48-4aac-8cc1-7fd97ad1f3d4",
   "metadata": {},
   "outputs": [],
   "source": [
    "fig = extensor_energy.graph_energy(pregenerated=pregenerated)\n",
    "fig.show()"
   ]
  },
  {
   "cell_type": "code",
   "execution_count": null,
   "id": "f0c12b63-d027-4f50-8c49-abf686a832d3",
   "metadata": {},
   "outputs": [],
   "source": []
  }
 ],
 "metadata": {
  "kernelspec": {
   "display_name": "Python 3 (ipykernel)",
   "language": "python",
   "name": "python3"
  },
  "language_info": {
   "codemirror_mode": {
    "name": "ipython",
    "version": 3
   },
   "file_extension": ".py",
   "mimetype": "text/x-python",
   "name": "python",
   "nbconvert_exporter": "python",
   "pygments_lexer": "ipython3",
   "version": "3.8.10"
  }
 },
 "nbformat": 4,
 "nbformat_minor": 5
}
